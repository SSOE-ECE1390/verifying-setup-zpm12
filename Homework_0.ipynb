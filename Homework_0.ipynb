{
 "cells": [
  {
   "cell_type": "markdown",
   "metadata": {},
   "source": [
    "# <font style=\"color:black\">Lecture 1: Homework Problem</font>\n",
    "\n",
    "In this first homework set, I want you to make sure that you can use GitHub, MS Code, and OpenCV.\n",
    "You should (already to be able to read this document), clone the Github classroom assignment and edit it in VS Code.  In this python notebook, do the following:\n",
    "\n",
    "* Load an (Grayscale) image  (‘Data/Apollo_11_Launch.jpg’)\n",
    "* View image\n",
    "* Crop image\n",
    "* Edit brightness of image\n",
    "* Rotate image\n",
    "* Save modified image"
   ]
  },
  {
   "cell_type": "code",
   "execution_count": null,
   "metadata": {
    "vscode": {
     "languageId": "plaintext"
    }
   },
   "outputs": [],
   "source": [
    "import cv2\n",
    "\n",
    "# Load image\n",
    "image = cv2.imread(\"Data/Apollo_11_Launch.jpg\", cv2.IMREAD_GRAYSCALE)\n",
    "\n",
    "# View initial image\n",
    "cv2.imshow(\"Initial\", image)\n",
    "\n",
    "# Crop image\n",
    "image = image[:, image.shape[1]//2-200:image.shape[1]//2+200]\n",
    "cv2.imshow(\"Cropped\", image)\n",
    "\n",
    "# Edit brightness\n",
    "image = cv2.convertScaleAbs(image, alpha=2, beta=0)\n",
    "cv2.imshow(\"Bright\", image)\n",
    "\n",
    "# Rotate image\n",
    "image = cv2.rotate(image, cv2.ROTATE_90_CLOCKWISE)\n",
    "cv2.imshow(\"Rotated\", image)\n",
    "\n",
    "# Save image\n",
    "cv2.imwrite(\"Data/Apollo_11_Launch_modified.jpg\", image)\n",
    "\n",
    "# Wait to end program\n",
    "cv2.waitKey(5000)\n",
    "\n",
    "# Exit\n",
    "cv2.destroyAllWindows()\n"
   ]
  }
 ],
 "metadata": {
  "language_info": {
   "name": "python"
  }
 },
 "nbformat": 4,
 "nbformat_minor": 2
}
